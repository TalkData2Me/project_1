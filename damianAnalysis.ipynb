{
 "cells": [
  {
   "cell_type": "markdown",
   "metadata": {},
   "source": [
    "#Setup"
   ]
  },
  {
   "cell_type": "code",
   "execution_count": 105,
   "metadata": {
    "collapsed": false
   },
   "outputs": [
    {
     "name": "stdout",
     "output_type": "stream",
     "text": [
      "Parsed 3728 movies from 3728 files\n",
      "Parsed 4763 movies from 4767 files\n",
      "{u'complete': True,\n",
      " 'critic_review_negative': 1,\n",
      " 'critic_review_neutral': 7,\n",
      " 'critic_review_positive': 18,\n",
      " 'critic_review_total': 26,\n",
      " u'director': u'Gil Junger',\n",
      " u'genre': [u'Comedy', u'Romance'],\n",
      " 'genre_combined': u'Comedy_Romance',\n",
      " u'metacritic_page': u'/movie/10-things-i-hate-about-you',\n",
      " u'metascore': 70,\n",
      " u'num_critic_reviews': [18, 7, 1, 26],\n",
      " u'num_user_ratings': 175,\n",
      " u'num_user_reviews': [27, 1, 1, 29],\n",
      " u'rating': u'PG-13',\n",
      " u'release_date': u'1999-03-31',\n",
      " u'runtime_minutes': 97,\n",
      " u'studio': u'Buena Vista Pictures',\n",
      " u'title': u'10 THINGS I HATE ABOUT YOU',\n",
      " 'user_review_negative': 1,\n",
      " 'user_review_neutral': 1,\n",
      " 'user_review_positive': 27,\n",
      " 'user_review_total': 29,\n",
      " u'user_score': 7.0,\n",
      " u'year': 1999}\n",
      "Counter({13: 3728})\n",
      "Counter({24: 4763})\n"
     ]
    }
   ],
   "source": [
    "%run loaddata_v2.py\n",
    "\n",
    "import pandas as pd\n",
    "import numpy as np"
   ]
  },
  {
   "cell_type": "code",
   "execution_count": 106,
   "metadata": {
    "collapsed": true
   },
   "outputs": [],
   "source": [
    "import seaborn"
   ]
  },
  {
   "cell_type": "code",
   "execution_count": null,
   "metadata": {
    "collapsed": true
   },
   "outputs": [],
   "source": []
  },
  {
   "cell_type": "code",
   "execution_count": 107,
   "metadata": {
    "collapsed": false
   },
   "outputs": [
    {
     "name": "stdout",
     "output_type": "stream",
     "text": [
      "Counter({13: 3728})\n",
      "Counter({24: 4763})\n"
     ]
    }
   ],
   "source": [
    "import collections\n",
    "print collections.Counter([len(a.keys()) for a in mojo_movies])\n",
    "print collections.Counter([len(a.keys()) for a in meta_movies])"
   ]
  },
  {
   "cell_type": "code",
   "execution_count": 108,
   "metadata": {
    "collapsed": false
   },
   "outputs": [
    {
     "name": "stdout",
     "output_type": "stream",
     "text": [
      "[u'alt_title' u'director' u'domestic_gross' u'mojo_slug'\n",
      " u'opening_per_theater' u'opening_weekend_take' u'production_budget'\n",
      " u'release_date_limited' u'release_date_wide' u'title' u'widest_release'\n",
      " u'worldwide_gross' u'year']\n"
     ]
    },
    {
     "data": {
      "text/plain": [
       "alt_title                object\n",
       "director                 object\n",
       "domestic_gross          float64\n",
       "mojo_slug                object\n",
       "opening_per_theater     float64\n",
       "opening_weekend_take    float64\n",
       "production_budget       float64\n",
       "release_date_limited     object\n",
       "release_date_wide        object\n",
       "title                    object\n",
       "widest_release          float64\n",
       "worldwide_gross         float64\n",
       "year                    float64\n",
       "dtype: object"
      ]
     },
     "execution_count": 108,
     "metadata": {},
     "output_type": "execute_result"
    }
   ],
   "source": [
    "mojo_movies_df = pd.DataFrame(mojo_movies)\n",
    "colsFromMojo = mojo_movies_df.columns.values\n",
    "print colsFromMojo\n",
    "\n",
    "mojo_movies_df.dtypes"
   ]
  },
  {
   "cell_type": "code",
   "execution_count": 109,
   "metadata": {
    "collapsed": false
   },
   "outputs": [
    {
     "name": "stdout",
     "output_type": "stream",
     "text": [
      "[u'complete' 'critic_review_negative' 'critic_review_neutral'\n",
      " 'critic_review_positive' 'critic_review_total' u'director' u'genre'\n",
      " 'genre_combined' u'metacritic_page' u'metascore' u'num_critic_reviews'\n",
      " u'num_user_ratings' u'num_user_reviews' u'rating' u'release_date'\n",
      " u'runtime_minutes' u'studio' u'title' 'user_review_negative'\n",
      " 'user_review_neutral' 'user_review_positive' 'user_review_total'\n",
      " u'user_score' u'year']\n"
     ]
    },
    {
     "data": {
      "text/plain": [
       "complete                     bool\n",
       "critic_review_negative      int64\n",
       "critic_review_neutral       int64\n",
       "critic_review_positive      int64\n",
       "critic_review_total         int64\n",
       "director                   object\n",
       "genre                      object\n",
       "genre_combined             object\n",
       "metacritic_page            object\n",
       "metascore                 float64\n",
       "num_critic_reviews         object\n",
       "num_user_ratings          float64\n",
       "num_user_reviews           object\n",
       "rating                     object\n",
       "release_date               object\n",
       "runtime_minutes           float64\n",
       "studio                     object\n",
       "title                      object\n",
       "user_review_negative        int64\n",
       "user_review_neutral         int64\n",
       "user_review_positive        int64\n",
       "user_review_total           int64\n",
       "user_score                 object\n",
       "year                       object\n",
       "dtype: object"
      ]
     },
     "execution_count": 109,
     "metadata": {},
     "output_type": "execute_result"
    }
   ],
   "source": [
    "meta_movies_df = pd.DataFrame(meta_movies)\n",
    "colsFromMets = meta_movies_df.columns.values\n",
    "print colsFromMets\n",
    "\n",
    "meta_movies_df.dtypes"
   ]
  },
  {
   "cell_type": "code",
   "execution_count": 110,
   "metadata": {
    "collapsed": false
   },
   "outputs": [],
   "source": [
    "mojo_movies_df['title']=mojo_movies_df['title'].apply(lambda x: x.strip())\n"
   ]
  },
  {
   "cell_type": "code",
   "execution_count": 111,
   "metadata": {
    "collapsed": false
   },
   "outputs": [],
   "source": [
    "meta_movies_df['title']=meta_movies_df['title'].apply(lambda x: x.strip())"
   ]
  },
  {
   "cell_type": "code",
   "execution_count": 112,
   "metadata": {
    "collapsed": false
   },
   "outputs": [
    {
     "name": "stdout",
     "output_type": "stream",
     "text": [
      "mojo shape: (3728, 13)\n",
      "meta shape: (4763, 24)\n",
      "combined_outer shape: (5015, 36)\n",
      "combined_inner shape: (3504, 36)\n"
     ]
    }
   ],
   "source": [
    "print 'mojo shape: '+str(mojo_movies_df.shape)\n",
    "print 'meta shape: '+str(meta_movies_df.shape)\n",
    "\n",
    "combined = mojo_movies_df.merge(meta_movies_df, on='title', how='outer')\n",
    "print 'combined_outer shape: '+str(combined.shape)\n",
    "\n",
    "inner = mojo_movies_df.merge(meta_movies_df, on='title', how='inner')\n",
    "print 'combined_inner shape: '+str(inner.shape)"
   ]
  },
  {
   "cell_type": "code",
   "execution_count": 113,
   "metadata": {
    "collapsed": false
   },
   "outputs": [
    {
     "data": {
      "text/plain": [
       "(1147, 35)"
      ]
     },
     "execution_count": 113,
     "metadata": {},
     "output_type": "execute_result"
    }
   ],
   "source": [
    "combined.drop('release_date_limited', 1).dropna().shape"
   ]
  },
  {
   "cell_type": "code",
   "execution_count": 114,
   "metadata": {
    "collapsed": false
   },
   "outputs": [
    {
     "data": {
      "text/plain": [
       "alt_title                 3755\n",
       "director_x                2184\n",
       "domestic_gross            3680\n",
       "mojo_slug                 3755\n",
       "opening_per_theater       3573\n",
       "opening_weekend_take      3573\n",
       "production_budget         1600\n",
       "release_date_limited       296\n",
       "release_date_wide         3745\n",
       "title                     5015\n",
       "widest_release            3601\n",
       "worldwide_gross           2840\n",
       "year_x                    3748\n",
       "complete                  4764\n",
       "critic_review_negative    4764\n",
       "critic_review_neutral     4764\n",
       "critic_review_positive    4764\n",
       "critic_review_total       4764\n",
       "director_y                4764\n",
       "genre                     4764\n",
       "genre_combined            4764\n",
       "metacritic_page           4764\n",
       "metascore                 4589\n",
       "num_critic_reviews        4764\n",
       "num_user_ratings          4482\n",
       "num_user_reviews          4764\n",
       "rating                    4764\n",
       "release_date              4764\n",
       "runtime_minutes           4669\n",
       "studio                    4726\n",
       "user_review_negative      4764\n",
       "user_review_neutral       4764\n",
       "user_review_positive      4764\n",
       "user_review_total         4764\n",
       "user_score                4764\n",
       "year_y                    4764\n",
       "dtype: int64"
      ]
     },
     "execution_count": 114,
     "metadata": {},
     "output_type": "execute_result"
    }
   ],
   "source": [
    "combined.count(axis=0)"
   ]
  },
  {
   "cell_type": "code",
   "execution_count": null,
   "metadata": {
    "collapsed": true
   },
   "outputs": [],
   "source": []
  },
  {
   "cell_type": "code",
   "execution_count": null,
   "metadata": {
    "collapsed": true
   },
   "outputs": [],
   "source": []
  },
  {
   "cell_type": "code",
   "execution_count": null,
   "metadata": {
    "collapsed": true
   },
   "outputs": [],
   "source": []
  },
  {
   "cell_type": "code",
   "execution_count": 115,
   "metadata": {
    "collapsed": false
   },
   "outputs": [
    {
     "data": {
      "text/html": [
       "<div>\n",
       "<table border=\"1\" class=\"dataframe\">\n",
       "  <thead>\n",
       "    <tr style=\"text-align: right;\">\n",
       "      <th></th>\n",
       "      <th>alt_title</th>\n",
       "      <th>director_x</th>\n",
       "      <th>domestic_gross</th>\n",
       "      <th>mojo_slug</th>\n",
       "      <th>opening_per_theater</th>\n",
       "      <th>opening_weekend_take</th>\n",
       "      <th>production_budget</th>\n",
       "      <th>release_date_limited</th>\n",
       "      <th>release_date_wide</th>\n",
       "      <th>title</th>\n",
       "      <th>...</th>\n",
       "      <th>Short</th>\n",
       "      <th>Drama</th>\n",
       "      <th>Action</th>\n",
       "      <th>Documentary</th>\n",
       "      <th>Musical</th>\n",
       "      <th>History</th>\n",
       "      <th>Sport</th>\n",
       "      <th>Family</th>\n",
       "      <th>Fantasy</th>\n",
       "      <th>Biography</th>\n",
       "    </tr>\n",
       "  </thead>\n",
       "  <tbody>\n",
       "    <tr>\n",
       "      <th>0</th>\n",
       "      <td>10,000 B.C. (2008)</td>\n",
       "      <td>Roland Emmerich</td>\n",
       "      <td>94784201</td>\n",
       "      <td>10000bc</td>\n",
       "      <td>10518</td>\n",
       "      <td>35867488</td>\n",
       "      <td>105000000</td>\n",
       "      <td>None</td>\n",
       "      <td>2008-03-07</td>\n",
       "      <td>10 000 B C</td>\n",
       "      <td>...</td>\n",
       "      <td>0</td>\n",
       "      <td>0</td>\n",
       "      <td>0</td>\n",
       "      <td>0</td>\n",
       "      <td>0</td>\n",
       "      <td>0</td>\n",
       "      <td>0</td>\n",
       "      <td>0</td>\n",
       "      <td>0</td>\n",
       "      <td>0</td>\n",
       "    </tr>\n",
       "    <tr>\n",
       "      <th>1</th>\n",
       "      <td>102 Dalmatians (2000)</td>\n",
       "      <td>None</td>\n",
       "      <td>66957026</td>\n",
       "      <td>102dalmatians</td>\n",
       "      <td>7353</td>\n",
       "      <td>19883351</td>\n",
       "      <td>85000000</td>\n",
       "      <td>None</td>\n",
       "      <td>2000-11-22</td>\n",
       "      <td>102 DALMATIANS</td>\n",
       "      <td>...</td>\n",
       "      <td>0</td>\n",
       "      <td>0</td>\n",
       "      <td>0</td>\n",
       "      <td>0</td>\n",
       "      <td>0</td>\n",
       "      <td>0</td>\n",
       "      <td>0</td>\n",
       "      <td>1</td>\n",
       "      <td>0</td>\n",
       "      <td>0</td>\n",
       "    </tr>\n",
       "    <tr>\n",
       "      <th>2</th>\n",
       "      <td>10 Things I Hate About You (1999)</td>\n",
       "      <td>None</td>\n",
       "      <td>38178166</td>\n",
       "      <td>10thingsihateaboutyou</td>\n",
       "      <td>3668</td>\n",
       "      <td>8330681</td>\n",
       "      <td>30000000</td>\n",
       "      <td>None</td>\n",
       "      <td>1999-03-31</td>\n",
       "      <td>10 THINGS I HATE ABOUT YOU</td>\n",
       "      <td>...</td>\n",
       "      <td>0</td>\n",
       "      <td>0</td>\n",
       "      <td>0</td>\n",
       "      <td>0</td>\n",
       "      <td>0</td>\n",
       "      <td>0</td>\n",
       "      <td>0</td>\n",
       "      <td>0</td>\n",
       "      <td>0</td>\n",
       "      <td>0</td>\n",
       "    </tr>\n",
       "    <tr>\n",
       "      <th>3</th>\n",
       "      <td>10 Years (2012)</td>\n",
       "      <td>Jamie Linden</td>\n",
       "      <td>203373</td>\n",
       "      <td>10years</td>\n",
       "      <td>7569</td>\n",
       "      <td>22707</td>\n",
       "      <td>NaN</td>\n",
       "      <td>None</td>\n",
       "      <td>2012-09-14</td>\n",
       "      <td>10 YEARS</td>\n",
       "      <td>...</td>\n",
       "      <td>0</td>\n",
       "      <td>1</td>\n",
       "      <td>0</td>\n",
       "      <td>0</td>\n",
       "      <td>0</td>\n",
       "      <td>0</td>\n",
       "      <td>0</td>\n",
       "      <td>0</td>\n",
       "      <td>0</td>\n",
       "      <td>0</td>\n",
       "    </tr>\n",
       "    <tr>\n",
       "      <th>4</th>\n",
       "      <td>11 Flowers (2013)</td>\n",
       "      <td>None</td>\n",
       "      <td>9213</td>\n",
       "      <td>11flowers</td>\n",
       "      <td>1758</td>\n",
       "      <td>3516</td>\n",
       "      <td>NaN</td>\n",
       "      <td>None</td>\n",
       "      <td>2013-02-22</td>\n",
       "      <td>11 FLOWERS</td>\n",
       "      <td>...</td>\n",
       "      <td>0</td>\n",
       "      <td>1</td>\n",
       "      <td>0</td>\n",
       "      <td>0</td>\n",
       "      <td>0</td>\n",
       "      <td>0</td>\n",
       "      <td>0</td>\n",
       "      <td>0</td>\n",
       "      <td>0</td>\n",
       "      <td>0</td>\n",
       "    </tr>\n",
       "  </tbody>\n",
       "</table>\n",
       "<p>5 rows × 61 columns</p>\n",
       "</div>"
      ],
      "text/plain": [
       "                           alt_title       director_x  domestic_gross  \\\n",
       "0                 10,000 B.C. (2008)  Roland Emmerich        94784201   \n",
       "1              102 Dalmatians (2000)             None        66957026   \n",
       "2  10 Things I Hate About You (1999)             None        38178166   \n",
       "3                    10 Years (2012)     Jamie Linden          203373   \n",
       "4                  11 Flowers (2013)             None            9213   \n",
       "\n",
       "               mojo_slug  opening_per_theater  opening_weekend_take  \\\n",
       "0                10000bc                10518              35867488   \n",
       "1          102dalmatians                 7353              19883351   \n",
       "2  10thingsihateaboutyou                 3668               8330681   \n",
       "3                10years                 7569                 22707   \n",
       "4              11flowers                 1758                  3516   \n",
       "\n",
       "   production_budget release_date_limited release_date_wide  \\\n",
       "0          105000000                 None        2008-03-07   \n",
       "1           85000000                 None        2000-11-22   \n",
       "2           30000000                 None        1999-03-31   \n",
       "3                NaN                 None        2012-09-14   \n",
       "4                NaN                 None        2013-02-22   \n",
       "\n",
       "                        title    ...     Short  Drama  Action Documentary  \\\n",
       "0                  10 000 B C    ...         0      0       0           0   \n",
       "1              102 DALMATIANS    ...         0      0       0           0   \n",
       "2  10 THINGS I HATE ABOUT YOU    ...         0      0       0           0   \n",
       "3                    10 YEARS    ...         0      1       0           0   \n",
       "4                  11 FLOWERS    ...         0      1       0           0   \n",
       "\n",
       "   Musical  History  Sport  Family Fantasy Biography  \n",
       "0        0        0      0       0       0         0  \n",
       "1        0        0      0       1       0         0  \n",
       "2        0        0      0       0       0         0  \n",
       "3        0        0      0       0       0         0  \n",
       "4        0        0      0       0       0         0  \n",
       "\n",
       "[5 rows x 61 columns]"
      ]
     },
     "execution_count": 115,
     "metadata": {},
     "output_type": "execute_result"
    }
   ],
   "source": [
    "combined['genre'].fillna('z',inplace=True)\n",
    "\n",
    "\n",
    "l = list(combined['genre'].values)\n",
    "l = [i for i in l if i is not np.nan]\n",
    "genres = list(set([item for sublist in l for item in sublist]))\n",
    "\n",
    "\n",
    "def bool_to_num(bool_val):\n",
    "    if bool_val==True:\n",
    "        result = 1\n",
    "    else:\n",
    "        result = 0\n",
    "    return result\n",
    "\n",
    "for genre in genres:\n",
    "    combined[genre]=0\n",
    "    combined[genre]=combined['genre'].apply(lambda x: bool_to_num(genre in x))\n",
    "combined.drop('z',axis=1,inplace=True)\n",
    "combined.head()"
   ]
  },
  {
   "cell_type": "code",
   "execution_count": null,
   "metadata": {
    "collapsed": true
   },
   "outputs": [],
   "source": []
  },
  {
   "cell_type": "code",
   "execution_count": null,
   "metadata": {
    "collapsed": true
   },
   "outputs": [],
   "source": []
  },
  {
   "cell_type": "code",
   "execution_count": null,
   "metadata": {
    "collapsed": true
   },
   "outputs": [],
   "source": []
  },
  {
   "cell_type": "code",
   "execution_count": 8,
   "metadata": {
    "collapsed": false
   },
   "outputs": [],
   "source": [
    "import pandas as pd\n",
    "import numpy as np\n",
    "\n",
    "df = pd.DataFrame(np.random.randn(5, 3), index=['a', 'c', 'e', 'f', 'h'],columns=['one', 'two', 'three'])\n",
    "df['four'] = 'bar'\n",
    "df['five'] = df['one'] > 0\n",
    "df = df.reindex(['a', 'b', 'c', 'd', 'e', 'f', 'g', 'h'])\n"
   ]
  },
  {
   "cell_type": "code",
   "execution_count": 10,
   "metadata": {
    "collapsed": false,
    "scrolled": true
   },
   "outputs": [],
   "source": [
    "\n",
    "\n",
    "def impute_with_medians(df=None):\n",
    "    medians = dict(df.median(numeric_only=True))\n",
    "    for key in medians:\n",
    "        df[key].fillna(medians[key],inplace=True)\n",
    "\n",
    "impute_with_medians(df)"
   ]
  },
  {
   "cell_type": "code",
   "execution_count": null,
   "metadata": {
    "collapsed": true
   },
   "outputs": [],
   "source": []
  }
 ],
 "metadata": {
  "kernelspec": {
   "display_name": "Python 2",
   "language": "python",
   "name": "python2"
  },
  "language_info": {
   "codemirror_mode": {
    "name": "ipython",
    "version": 2
   },
   "file_extension": ".py",
   "mimetype": "text/x-python",
   "name": "python",
   "nbconvert_exporter": "python",
   "pygments_lexer": "ipython2",
   "version": "2.7.10"
  }
 },
 "nbformat": 4,
 "nbformat_minor": 0
}
