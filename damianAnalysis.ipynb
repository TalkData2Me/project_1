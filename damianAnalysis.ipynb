{
 "cells": [
  {
   "cell_type": "markdown",
   "metadata": {},
   "source": [
    "#Setup"
   ]
  },
  {
   "cell_type": "code",
   "execution_count": 1,
   "metadata": {
    "collapsed": false
   },
   "outputs": [
    {
     "name": "stdout",
     "output_type": "stream",
     "text": [
      "Parsed 3728 movies from 3728 files\n",
      "Parsed 4763 movies from 4767 files\n"
     ]
    }
   ],
   "source": [
    "%run loaddata.py\n",
    "\n",
    "import pandas as pd"
   ]
  },
  {
   "cell_type": "code",
   "execution_count": null,
   "metadata": {
    "collapsed": true
   },
   "outputs": [],
   "source": []
  },
  {
   "cell_type": "code",
   "execution_count": null,
   "metadata": {
    "collapsed": true
   },
   "outputs": [],
   "source": []
  },
  {
   "cell_type": "code",
   "execution_count": 2,
   "metadata": {
    "collapsed": false
   },
   "outputs": [
    {
     "name": "stdout",
     "output_type": "stream",
     "text": [
      "Counter({13: 3728})\n",
      "Counter({15: 4763})\n"
     ]
    }
   ],
   "source": [
    "import collections\n",
    "print collections.Counter([len(a.keys()) for a in mojo_movies])\n",
    "print collections.Counter([len(a.keys()) for a in meta_movies])"
   ]
  },
  {
   "cell_type": "code",
   "execution_count": 3,
   "metadata": {
    "collapsed": false
   },
   "outputs": [
    {
     "name": "stdout",
     "output_type": "stream",
     "text": [
      "[u'alt_title' u'director' u'domestic_gross' u'mojo_slug'\n",
      " u'opening_per_theater' u'opening_weekend_take' u'production_budget'\n",
      " u'release_date_limited' u'release_date_wide' u'title' u'widest_release'\n",
      " u'worldwide_gross' u'year']\n"
     ]
    },
    {
     "data": {
      "text/plain": [
       "alt_title                object\n",
       "director                 object\n",
       "domestic_gross          float64\n",
       "mojo_slug                object\n",
       "opening_per_theater     float64\n",
       "opening_weekend_take    float64\n",
       "production_budget       float64\n",
       "release_date_limited     object\n",
       "release_date_wide        object\n",
       "title                    object\n",
       "widest_release          float64\n",
       "worldwide_gross         float64\n",
       "year                    float64\n",
       "dtype: object"
      ]
     },
     "execution_count": 3,
     "metadata": {},
     "output_type": "execute_result"
    }
   ],
   "source": [
    "mojo_movies_df = pd.DataFrame(mojo_movies)\n",
    "colsFromMojo = mojo_movies_df.columns.values\n",
    "print colsFromMojo\n",
    "\n",
    "mojo_movies_df.dtypes"
   ]
  },
  {
   "cell_type": "code",
   "execution_count": 4,
   "metadata": {
    "collapsed": false
   },
   "outputs": [
    {
     "name": "stdout",
     "output_type": "stream",
     "text": [
      "[u'complete' u'director' u'genre' u'metacritic_page' u'metascore'\n",
      " u'num_critic_reviews' u'num_user_ratings' u'num_user_reviews' u'rating'\n",
      " u'release_date' u'runtime_minutes' u'studio' u'title' u'user_score'\n",
      " u'year']\n"
     ]
    },
    {
     "data": {
      "text/plain": [
       "complete                 bool\n",
       "director               object\n",
       "genre                  object\n",
       "metacritic_page        object\n",
       "metascore             float64\n",
       "num_critic_reviews     object\n",
       "num_user_ratings      float64\n",
       "num_user_reviews       object\n",
       "rating                 object\n",
       "release_date           object\n",
       "runtime_minutes       float64\n",
       "studio                 object\n",
       "title                  object\n",
       "user_score             object\n",
       "year                   object\n",
       "dtype: object"
      ]
     },
     "execution_count": 4,
     "metadata": {},
     "output_type": "execute_result"
    }
   ],
   "source": [
    "meta_movies_df = pd.DataFrame(meta_movies)\n",
    "colsFromMets = meta_movies_df.columns.values\n",
    "print colsFromMets\n",
    "\n",
    "meta_movies_df.dtypes"
   ]
  },
  {
   "cell_type": "code",
   "execution_count": 5,
   "metadata": {
    "collapsed": false
   },
   "outputs": [],
   "source": [
    "mojo_movies_df['title']=mojo_movies_df['title'].apply(lambda x: x.strip())\n"
   ]
  },
  {
   "cell_type": "code",
   "execution_count": 6,
   "metadata": {
    "collapsed": false
   },
   "outputs": [],
   "source": [
    "meta_movies_df['title']=meta_movies_df['title'].apply(lambda x: x.strip())"
   ]
  },
  {
   "cell_type": "code",
   "execution_count": 7,
   "metadata": {
    "collapsed": false
   },
   "outputs": [
    {
     "name": "stdout",
     "output_type": "stream",
     "text": [
      "mojo shape: (3728, 13)\n",
      "meta shape: (4763, 15)\n",
      "combined_outer shape: (5217, 27)\n",
      "combined_inner shape: (3300, 27)\n"
     ]
    }
   ],
   "source": [
    "print 'mojo shape: '+str(mojo_movies_df.shape)\n",
    "print 'meta shape: '+str(meta_movies_df.shape)\n",
    "\n",
    "combined = mojo_movies_df.merge(meta_movies_df, on='title', how='outer')\n",
    "print 'combined_outer shape: '+str(combined.shape)\n",
    "\n",
    "inner = mojo_movies_df.merge(meta_movies_df, on='title', how='inner')\n",
    "print 'combined_inner shape: '+str(inner.shape)"
   ]
  },
  {
   "cell_type": "code",
   "execution_count": 8,
   "metadata": {
    "collapsed": false
   },
   "outputs": [
    {
     "data": {
      "text/plain": [
       "array([u'alt_title', u'director_x', u'domestic_gross', u'mojo_slug',\n",
       "       u'opening_per_theater', u'opening_weekend_take',\n",
       "       u'production_budget', u'release_date_limited', u'release_date_wide',\n",
       "       u'title', u'widest_release', u'worldwide_gross', u'year_x',\n",
       "       u'complete', u'director_y', u'genre', u'metacritic_page',\n",
       "       u'metascore', u'num_critic_reviews', u'num_user_ratings',\n",
       "       u'num_user_reviews', u'rating', u'release_date', u'runtime_minutes',\n",
       "       u'studio', u'user_score', u'year_y'], dtype=object)"
      ]
     },
     "execution_count": 8,
     "metadata": {},
     "output_type": "execute_result"
    }
   ],
   "source": [
    "inner.columns.values"
   ]
  },
  {
   "cell_type": "code",
   "execution_count": null,
   "metadata": {
    "collapsed": true
   },
   "outputs": [],
   "source": []
  }
 ],
 "metadata": {
  "kernelspec": {
   "display_name": "Python 2",
   "language": "python",
   "name": "python2"
  },
  "language_info": {
   "codemirror_mode": {
    "name": "ipython",
    "version": 2
   },
   "file_extension": ".py",
   "mimetype": "text/x-python",
   "name": "python",
   "nbconvert_exporter": "python",
   "pygments_lexer": "ipython2",
   "version": "2.7.10"
  }
 },
 "nbformat": 4,
 "nbformat_minor": 0
}
